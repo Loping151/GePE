{
 "cells": [
  {
   "cell_type": "code",
   "execution_count": 1,
   "metadata": {},
   "outputs": [],
   "source": [
    "import os\n",
    "\n",
    "os.environ['https_proxy'] = 'http://127.0.0.1:15777'\n",
    "os.environ['http_proxy'] = 'http://127.0.0.1:15777'"
   ]
  },
  {
   "cell_type": "code",
   "execution_count": 34,
   "metadata": {},
   "outputs": [
    {
     "data": {
      "text/plain": [
       "tensor([-0.2154, -0.1931, -0.9862, -0.1188,  0.4010,  0.9998,  0.5660, -0.9995,\n",
       "         0.4237,  0.9940,  0.2657,  0.2647,  0.6326,  0.7607,  0.2546, -0.1052,\n",
       "        -0.2549, -0.5612,  0.8620,  0.7014, -0.0266,  0.2705,  0.1446,  0.2176,\n",
       "        -0.5691,  0.8112, -0.9229,  0.0288, -0.2597,  0.5273,  0.4627,  0.1648,\n",
       "         0.3793, -0.0563,  0.8809,  0.3203,  0.9876, -0.0646,  0.3202,  0.9873,\n",
       "        -0.5740,  0.2586,  0.1153, -0.2996,  0.4489, -0.4158, -0.1018,  0.3186,\n",
       "        -0.8368, -0.9483,  0.2104, -0.3126, -0.3396,  0.9739,  0.5021, -0.3215,\n",
       "        -0.5695,  0.3571, -0.9642,  0.8137, -0.2886,  0.9854,  0.5226,  0.8692,\n",
       "         0.6101, -0.4707, -0.2739, -0.3567,  0.6418,  0.2304,  0.9905,  0.4891,\n",
       "         0.5196, -0.6917,  0.9621,  0.3503, -0.1559, -0.2226,  0.2985,  0.0171,\n",
       "         0.5279, -0.3954,  0.0541, -0.4385, -0.1604, -0.4993,  0.3740, -0.6530,\n",
       "         0.9905, -0.8244,  0.7515, -0.2529, -0.4570, -0.2789, -0.2690,  0.4522,\n",
       "        -0.5669,  0.8300,  0.4398, -0.6175, -0.4698,  0.1944,  0.4872, -0.4182,\n",
       "        -0.2036, -0.4030, -0.4839, -0.5232, -0.6839, -0.7744, -0.4085, -0.1285,\n",
       "         0.3770, -0.6313, -0.1608, -0.0544,  0.9645,  0.3553, -0.5593,  0.2182,\n",
       "         0.5816, -0.6815, -0.6880, -0.4175, -0.3212,  0.3934, -0.2154,  0.6468,\n",
       "         0.4309,  0.3088, -0.4134,  0.9904, -0.5316, -0.1592, -0.1962,  0.3452,\n",
       "         0.2199, -0.2437,  0.9235,  0.4080, -0.3519, -0.1797, -0.3430,  0.4419,\n",
       "         0.9809, -0.9445, -0.2656,  0.2716,  0.6804,  0.3476, -0.2820, -0.3818,\n",
       "        -0.3718,  0.9979,  0.7926,  0.4942, -0.7146,  0.7784,  0.8355,  0.9425,\n",
       "         0.4237, -0.4102,  0.2315, -0.5125,  0.4387, -0.6848,  0.4584, -0.9717,\n",
       "         0.9999, -0.8568, -0.1470,  0.7655, -0.1266, -0.3461,  0.1171,  0.3401,\n",
       "        -0.7086, -0.4030, -0.1289, -0.1132, -0.4003, -0.8562, -0.4501,  0.3395,\n",
       "         0.2641,  0.3118, -0.4859,  0.3750, -0.4329,  0.4936, -0.0846,  0.4921,\n",
       "         0.3336,  0.3673, -0.9989,  0.3777,  0.6080, -0.6274, -0.2007,  0.5996,\n",
       "         0.1222, -0.6887,  0.3752, -0.4459,  0.4963,  0.2860, -0.2817,  0.2501,\n",
       "        -0.9783,  0.5072, -0.6479,  0.0189, -0.4668, -0.2821,  0.6811,  0.4576,\n",
       "        -0.4960, -0.9713, -0.0710, -0.0901,  0.3916,  0.9533, -0.4156,  0.6864,\n",
       "        -0.8414, -0.7219, -0.5751,  0.2131, -0.4578,  0.9743,  0.2109, -0.4053,\n",
       "        -0.0627, -0.6822, -0.4823,  0.4426,  0.4937,  0.0693, -0.3145, -0.2221,\n",
       "         0.2219, -0.5266, -0.4403, -0.8583, -0.4329,  0.9167, -0.3708,  0.5847,\n",
       "        -0.1111, -0.9849,  0.2141, -0.1558, -0.9515, -0.4633, -0.3262, -0.1345,\n",
       "         0.9867,  0.4832, -0.6197, -0.4726, -0.1612,  0.5717,  0.9520, -0.3200,\n",
       "        -0.6746, -0.1721, -0.6464, -0.8116, -0.1757, -0.9398, -0.2619,  0.2799,\n",
       "         0.9138,  0.6640, -0.2710,  0.5406, -0.4250,  0.9579,  0.6884, -0.3407,\n",
       "         0.4453, -0.3591,  0.5182, -0.8045,  0.4501, -0.4604, -0.0871, -0.7597,\n",
       "        -0.5036,  0.3627,  0.9919, -0.9815, -0.4483, -0.8872, -0.2707,  0.9933,\n",
       "        -0.5372,  0.7397, -0.8332, -0.7692, -0.4923, -0.0912,  0.5280, -0.8024,\n",
       "        -0.3190,  0.0797, -0.9061, -0.3195,  0.1282,  0.4371, -0.2521,  0.5592,\n",
       "        -0.3086, -0.1534, -0.1441, -0.9468,  0.3656, -0.2392,  0.7259, -0.0908,\n",
       "        -0.0454, -0.4764, -0.2977,  0.3496,  0.9615,  0.0969,  0.3071, -0.8526,\n",
       "        -0.9504, -0.7469, -0.3590,  0.1111, -0.5511,  0.0171, -0.1077, -0.3463,\n",
       "         0.6733, -0.3732, -0.9080, -0.5130, -0.0570,  0.7054,  0.0657, -0.4316,\n",
       "         0.1162,  0.7567, -0.4030, -0.1582, -0.4244, -0.1872, -0.4806, -0.1922,\n",
       "        -0.9395, -0.4262,  0.4500, -0.2687, -0.4200, -0.8703, -0.4864, -0.4389,\n",
       "        -0.2320, -0.2845,  0.7418,  0.8733, -0.2215,  0.3237,  0.0278, -0.0124,\n",
       "         0.1811,  0.1286,  0.0473, -0.4052, -0.1328, -0.0267,  0.9661, -0.9960,\n",
       "        -0.0655,  0.4093, -0.1658,  0.1560,  0.2367, -0.2471, -0.3870, -0.8895,\n",
       "         0.9989,  0.5877, -0.2457, -0.0642,  0.9441,  0.7620,  0.1816,  0.2450,\n",
       "         0.5148,  0.9225,  0.2402,  0.2862,  0.0454,  0.9325,  0.0668, -0.4080,\n",
       "        -0.9429, -0.4368,  0.2863,  0.2133, -0.1922,  0.1119,  0.7972, -0.5009,\n",
       "        -0.4675,  0.3301,  0.3876,  0.9434, -0.9591, -0.4704, -0.3365, -0.2310,\n",
       "         0.2544, -0.3299, -0.5771,  0.3439,  0.4871, -0.5187, -0.3690,  0.8609,\n",
       "        -0.4102, -0.5136, -0.4397,  0.4961, -0.3402, -0.1397,  0.1534,  0.4492,\n",
       "         0.1882,  0.8733,  0.1369,  0.7001, -0.3775,  0.2673, -0.3702,  0.8281,\n",
       "        -0.2475, -0.2644,  0.8717,  0.7298,  0.2198,  0.3322, -0.8076,  0.1980,\n",
       "        -0.6344, -0.3679,  0.4878, -0.0572,  0.4016,  0.9992, -0.8620, -0.0952,\n",
       "        -0.6011, -0.7773, -0.2870, -0.2791,  0.2233,  0.1544,  0.2302,  0.1637,\n",
       "        -0.2724, -0.7826, -0.1533, -0.1872,  0.3211,  0.7747,  0.8275, -0.4180,\n",
       "        -0.2031, -0.0108,  0.9989, -0.2104,  0.8046, -0.3943,  0.3099,  0.3553,\n",
       "        -0.1716, -0.4051,  0.0746, -0.3007,  0.2713, -0.8334, -0.4604, -0.9788,\n",
       "         0.4113,  0.3719, -0.8951, -0.2760, -0.3170, -0.4307, -0.8215, -0.1777,\n",
       "        -0.5602,  0.2433,  0.8801,  0.3292, -0.9666, -0.2637,  0.0524, -0.3532,\n",
       "        -0.1702, -0.6906, -0.9996, -0.4328, -0.0999, -0.0752, -0.9143,  0.3070,\n",
       "         0.9891,  0.5129,  0.4203, -0.3735,  0.4884,  0.5520,  0.5507,  0.0485,\n",
       "        -0.3869, -0.3783,  0.7366,  0.7300, -0.3992, -0.2998, -0.3487,  0.9999,\n",
       "        -0.9784, -0.4296, -0.8354, -0.0154, -0.4386,  0.3199, -0.3767,  0.0858,\n",
       "         0.3836, -0.1058, -0.9020, -0.2412,  0.4815, -0.9139,  0.4940,  0.6436,\n",
       "         0.0186, -0.3794, -0.9722, -0.5586, -0.5257,  0.3645, -0.3938, -0.6135,\n",
       "        -0.5147, -0.4246,  0.7740, -0.3652,  0.0025, -0.0411,  0.2131,  0.9954,\n",
       "        -0.3651,  0.6321,  0.7176,  0.5515,  0.9862,  0.3501, -0.6145,  0.6852,\n",
       "        -0.2526,  0.3992, -0.5837, -0.9861,  0.4835,  0.6231, -0.1500, -0.4414,\n",
       "         0.3609,  0.8240,  0.5902, -0.4694,  0.9808,  0.9974,  0.9996, -0.7321,\n",
       "         0.3111, -0.3063, -0.3643, -0.4988,  0.8247,  0.3645,  0.1618,  0.9987,\n",
       "        -0.7221, -0.3101, -0.2921, -0.5471, -0.2060,  0.5689, -0.3223, -0.0687,\n",
       "        -0.6209, -0.2194, -0.8190, -0.3284, -0.4223,  0.5796, -0.3765, -0.4665,\n",
       "        -0.3205,  0.3722, -0.9046, -0.1244,  0.1876, -0.3078,  0.0293,  0.5415,\n",
       "        -0.2307,  0.3541,  0.7976, -0.2534,  0.3162,  0.2192, -0.3097, -0.0280,\n",
       "        -0.1093, -0.4560,  0.7853, -0.8873,  0.3188,  0.7327, -0.9922, -0.3843,\n",
       "        -0.3074,  0.4556,  0.3015, -0.9937, -0.9313,  0.3622,  0.6133, -0.9997,\n",
       "        -0.1529,  0.9037,  0.4705, -0.2583,  0.5533, -0.2722,  0.3843,  0.1365,\n",
       "        -0.6322, -0.6120, -0.2377,  0.9206,  0.9822, -0.1348, -0.4213, -0.1484,\n",
       "        -0.2841, -0.0921, -0.1690, -0.6929,  0.9678, -0.5688,  0.4862,  0.9056,\n",
       "         0.3260,  0.9482, -0.1057, -0.0396, -0.4935, -0.2521, -0.5827,  0.7608,\n",
       "        -0.4559, -0.9935,  0.6245,  0.9581, -0.9472, -0.5475, -0.2258,  0.5188,\n",
       "        -0.9724, -0.8687,  0.3143, -0.2921,  0.8371, -0.3630,  0.9592,  0.3040,\n",
       "         0.3229, -0.9994,  0.5954,  0.3733, -0.5900, -0.4952, -0.9936,  0.1672,\n",
       "        -0.5155, -0.3538, -0.3276, -0.2533,  0.6220,  0.9809,  0.2497,  0.8492,\n",
       "        -0.1582,  0.4343,  0.3765, -0.7104, -0.0315,  0.0922,  0.0083,  0.5000,\n",
       "         0.9717, -0.2670, -0.2361,  0.5360,  0.2542, -0.1985, -0.9774, -0.7290,\n",
       "        -0.2569, -0.3576,  0.3822,  0.2362, -0.0326, -0.5444,  0.3932,  0.2467,\n",
       "        -0.3346, -0.8489, -0.2485,  0.4372,  0.2528, -0.0664,  0.8272,  0.4508,\n",
       "         0.1796, -0.2018, -0.4377, -0.9831,  0.1587,  0.9995, -0.0927,  0.9636,\n",
       "         0.1188,  0.9931,  0.1610,  0.1846, -0.0208,  0.7945, -0.9261,  0.7991,\n",
       "         0.3299,  0.1854, -0.2988,  0.1352, -0.4857, -0.7321, -0.3996, -0.6201,\n",
       "         0.0484,  0.3103,  0.3721,  0.5279,  0.0957, -0.5692,  0.8122, -0.9593],\n",
       "       device='cuda:0')"
      ]
     },
     "execution_count": 34,
     "metadata": {},
     "output_type": "execute_result"
    }
   ],
   "source": [
    "torch.load('./data/embeddings_cls.pth')[0]"
   ]
  },
  {
   "cell_type": "code",
   "execution_count": 28,
   "metadata": {},
   "outputs": [
    {
     "name": "stdout",
     "output_type": "stream",
     "text": [
      "{'acc': 0.02531}\n"
     ]
    }
   ],
   "source": [
    "from ogb.nodeproppred import Evaluator\n",
    "import torch\n",
    "\n",
    "\n",
    "def evaluate(pred, label):\n",
    "    input_dict = {\"y_true\": label, \"y_pred\": pred}\n",
    "    return Evaluator(name='ogbn-arxiv').eval(input_dict)\n",
    "\n",
    "x = torch.randint(0, 40, (100000, 1))\n",
    "y = torch.randint(0, 40, (100000, 1))\n",
    "print(evaluate(x, y))"
   ]
  },
  {
   "cell_type": "code",
   "execution_count": 2,
   "metadata": {},
   "outputs": [],
   "source": [
    "from ogb.nodeproppred import PygNodePropPredDataset\n",
    "import pandas as pd\n",
    "from dataset.dataloader import *\n",
    "from dataset.embedding import *\n",
    "from torch_geometric.loader import NeighborLoader, DataLoader\n",
    "import torch_geometric.transforms as T\n",
    "\n",
    "device = torch.device('cuda' if torch.cuda.is_available() else 'cpu')\n"
   ]
  },
  {
   "cell_type": "code",
   "execution_count": 30,
   "metadata": {},
   "outputs": [
    {
     "data": {
      "text/plain": [
       "Data(num_nodes=169343, edge_index=[2, 1166243], x=[169343, 128], node_year=[169343, 1], y=[169343, 1])"
      ]
     },
     "execution_count": 30,
     "metadata": {},
     "output_type": "execute_result"
    }
   ],
   "source": [
    "dataset = PygNodePropPredDataset(name='ogbn-arxiv', root='./data')\n",
    "split_idx = dataset.get_idx_split()\n",
    "graph = dataset[0]\n",
    "data = {\n",
    "        'train_idx': split_idx['train'], # 90941\n",
    "        'valid_idx': split_idx['valid'], # 29799\n",
    "        'test_idx': split_idx['test'],   # 48603\n",
    "        'graph': graph\n",
    "        }\n",
    "graph"
   ]
  },
  {
   "cell_type": "code",
   "execution_count": 28,
   "metadata": {},
   "outputs": [
    {
     "data": {
      "text/plain": [
       "{tensor(1): 0,\n",
       " tensor(2): 1,\n",
       " tensor(3): 2,\n",
       " tensor(4): 3,\n",
       " tensor(5): 4,\n",
       " tensor(6): 5,\n",
       " tensor(7): 6,\n",
       " tensor(8): 7,\n",
       " tensor(9): 8,\n",
       " tensor(10): 9,\n",
       " tensor(1): 10,\n",
       " tensor(1): 11}"
      ]
     },
     "execution_count": 28,
     "metadata": {},
     "output_type": "execute_result"
    }
   ],
   "source": [
    "import torch\n",
    "import numpy as np\n",
    "a = torch.tensor([1,2,3,4,5,6,7,8,9,10, 1, 1])\n",
    "d = {}\n",
    "for i, x in enumerate(a):\n",
    "    d[x] = i\n",
    "d"
   ]
  },
  {
   "cell_type": "code",
   "execution_count": null,
   "metadata": {},
   "outputs": [],
   "source": [
    "pt = torch.load()"
   ]
  },
  {
   "cell_type": "code",
   "execution_count": 5,
   "metadata": {},
   "outputs": [
    {
     "name": "stdout",
     "output_type": "stream",
     "text": [
      "7499 tensor(42537)\n",
      "7500 tensor(124512)\n"
     ]
    }
   ],
   "source": [
    "def naive_search(a, b=None):\n",
    "    for i in range(graph.edge_index.shape[1]):\n",
    "        if b is not None:\n",
    "            if graph.edge_index[0][i] == a and graph.edge_index[1][i] == b:\n",
    "                print(i)\n",
    "                return\n",
    "        else:\n",
    "            if graph.edge_index[0][i] == a:\n",
    "                print(i, graph.edge_index[1][i])\n",
    "        \n",
    "naive_search(13091)\n"
   ]
  },
  {
   "cell_type": "code",
   "execution_count": 39,
   "metadata": {},
   "outputs": [
    {
     "data": {
      "text/plain": [
       "EdgeIndex([[1024, 1025, 1026,  ..., 3291, 3292, 3293],\n",
       "           [   1,    1,    2,  ..., 2459, 2461, 2462]],\n",
       "          sparse_size=(3294, 3294), nnz=2374, sort_order=col)"
      ]
     },
     "execution_count": 39,
     "metadata": {},
     "output_type": "execute_result"
    }
   ],
   "source": [
    "batch.edge_index"
   ]
  },
  {
   "cell_type": "code",
   "execution_count": 40,
   "metadata": {},
   "outputs": [
    {
     "ename": "ImportError",
     "evalue": "cannot import name 'random_walk' from 'torch_geometric.utils' (/home/loping151/anaconda3/envs/dm/lib/python3.10/site-packages/torch_geometric/utils/__init__.py)",
     "output_type": "error",
     "traceback": [
      "\u001b[0;31m---------------------------------------------------------------------------\u001b[0m",
      "\u001b[0;31mImportError\u001b[0m                               Traceback (most recent call last)",
      "Cell \u001b[0;32mIn[40], line 1\u001b[0m\n\u001b[0;32m----> 1\u001b[0m \u001b[38;5;28;01mfrom\u001b[39;00m \u001b[38;5;21;01mtorch_geometric\u001b[39;00m\u001b[38;5;21;01m.\u001b[39;00m\u001b[38;5;21;01mutils\u001b[39;00m \u001b[38;5;28;01mimport\u001b[39;00m random_walk\n\u001b[1;32m      2\u001b[0m \u001b[38;5;28;01mfrom\u001b[39;00m \u001b[38;5;21;01mtorch\u001b[39;00m\u001b[38;5;21;01m.\u001b[39;00m\u001b[38;5;21;01mutils\u001b[39;00m\u001b[38;5;21;01m.\u001b[39;00m\u001b[38;5;21;01mdata\u001b[39;00m \u001b[38;5;28;01mimport\u001b[39;00m DataLoader, Dataset\n\u001b[1;32m      4\u001b[0m \u001b[38;5;28;01mdef\u001b[39;00m \u001b[38;5;21mrandom_walk_sampler\u001b[39m(data, start_nodes, walk_length):\n",
      "\u001b[0;31mImportError\u001b[0m: cannot import name 'random_walk' from 'torch_geometric.utils' (/home/loping151/anaconda3/envs/dm/lib/python3.10/site-packages/torch_geometric/utils/__init__.py)"
     ]
    }
   ],
   "source": [
    "import random\n",
    "from typing import List, Tuple\n",
    "\n",
    "\n",
    "class BiasedRandomWalker:\n",
    "\n",
    "    def __init__(self, db, p: float = 1.2, q: float = 2.0):\n",
    "        self.db = db\n",
    "        self.ret_p = p\n",
    "        self.io_q = q\n",
    "\n",
    "        self.connected_nodes = self._get_connected_nodes()\n",
    "\n",
    "    def _get_connected_nodes(self):\n",
    "\n",
    "        txn = self.db.CreateReadTxn()\n",
    "        vit = txn.GetVertexIterator()\n",
    "\n",
    "        connected_nodes = []\n",
    "        while vit.IsValid():\n",
    "            if vit.GetNumOutEdges()[0] > 0:\n",
    "                connected_nodes.append(vit.GetId())\n",
    "            vit.Next()\n",
    "\n",
    "        txn.Commit()\n",
    "        return connected_nodes\n",
    "\n",
    "    def _normalize(self, weights):\n",
    "        tot = sum(weights)\n",
    "        return [p / tot for p in weights]\n",
    "\n",
    "    def get_probs_uniform(self, txn, vit) -> Tuple[List[int], List[float]]:\n",
    "        nexts = vit.ListDstVids()[0]\n",
    "        probs = [1 / len(nexts)] * len(nexts)\n",
    "        return nexts, probs\n",
    "\n",
    "    def get_probs_biased(self, txn, vit, prev: int) -> Tuple[List[int], List[float]]:\n",
    "        curr_nbrs = vit.ListDstVids()[0]\n",
    "\n",
    "        nexts = []\n",
    "        unnormalized_probs = []\n",
    "        for next in curr_nbrs:\n",
    "            nexts.append(next)\n",
    "            if next == prev:\n",
    "                unnormalized_probs.append(1 / self.ret_p)\n",
    "            elif txn.GetVertexIterator(next).HasEdge(prev):\n",
    "                unnormalized_probs.append(1)\n",
    "            else:\n",
    "                unnormalized_probs.append(1 / self.io_q)\n",
    "\n",
    "        probs = self._normalize(unnormalized_probs)\n",
    "        return nexts, probs\n",
    "\n",
    "    def walk(self, start: int, length: int) -> List[int]:\n",
    "\n",
    "        txn = self.db.CreateReadTxn()\n",
    "        vit = txn.GetVertexIterator(start)\n",
    "\n",
    "        trace = [vit.GetId()]\n",
    "        current_len = 1\n",
    "        \n",
    "        prev = None\n",
    "        \n",
    "        while current_len < length:\n",
    "            if prev is None:\n",
    "                nexts, probs = self.get_probs_uniform(txn, vit)\n",
    "            else:\n",
    "                nexts, probs = self.get_probs_biased(txn, vit, prev)\n",
    "\n",
    "            target = random.choices(nexts, probs)[0]\n",
    "            trace.append(target)\n",
    "\n",
    "            vit.Goto(vid=target, nearest=False)\n",
    "            current_len += 1\n",
    "\n",
    "        txn.Commit()\n",
    "        return trace\n"
   ]
  }
 ],
 "metadata": {
  "kernelspec": {
   "display_name": "dm",
   "language": "python",
   "name": "python3"
  },
  "language_info": {
   "codemirror_mode": {
    "name": "ipython",
    "version": 3
   },
   "file_extension": ".py",
   "mimetype": "text/x-python",
   "name": "python",
   "nbconvert_exporter": "python",
   "pygments_lexer": "ipython3",
   "version": "3.10.14"
  }
 },
 "nbformat": 4,
 "nbformat_minor": 2
}
