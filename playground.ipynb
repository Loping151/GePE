{
 "cells": [
  {
   "cell_type": "code",
   "execution_count": 1,
   "metadata": {},
   "outputs": [],
   "source": [
    "import os\n",
    "\n",
    "os.environ['https_proxy'] = 'http://127.0.0.1:15777'\n",
    "os.environ['http_proxy'] = 'http://127.0.0.1:15777'"
   ]
  },
  {
   "cell_type": "code",
   "execution_count": 2,
   "metadata": {},
   "outputs": [],
   "source": [
    "from ogb.nodeproppred import PygNodePropPredDataset\n",
    "import pandas as pd\n",
    "from dataset.dataloader import *\n",
    "from dataset.embedding import *\n",
    "from torch_geometric.loader import NeighborLoader, DataLoader\n",
    "import torch_geometric.transforms as T\n",
    "\n",
    "device = torch.device('cuda' if torch.cuda.is_available() else 'cpu')\n"
   ]
  },
  {
   "cell_type": "code",
   "execution_count": 3,
   "metadata": {},
   "outputs": [
    {
     "data": {
      "text/plain": [
       "torch.Size([169343, 1])"
      ]
     },
     "execution_count": 3,
     "metadata": {},
     "output_type": "execute_result"
    }
   ],
   "source": [
    "dataset = PygNodePropPredDataset(name='ogbn-arxiv', root='./data')\n",
    "split_idx = dataset.get_idx_split()\n",
    "graph = dataset[0]\n",
    "data = {\n",
    "        'train_idx': split_idx['train'], # 90941\n",
    "        'valid_idx': split_idx['valid'], # 29799\n",
    "        'test_idx': split_idx['test'],   # 48603\n",
    "        'graph': graph\n",
    "        }\n",
    "graph.y.shape"
   ]
  },
  {
   "cell_type": "code",
   "execution_count": 5,
   "metadata": {},
   "outputs": [
    {
     "name": "stdout",
     "output_type": "stream",
     "text": [
      "7499 tensor(42537)\n",
      "7500 tensor(124512)\n"
     ]
    }
   ],
   "source": [
    "def naive_search(a, b=None):\n",
    "    for i in range(graph.edge_index.shape[1]):\n",
    "        if b is not None:\n",
    "            if graph.edge_index[0][i] == a and graph.edge_index[1][i] == b:\n",
    "                print(i)\n",
    "                return\n",
    "        else:\n",
    "            if graph.edge_index[0][i] == a:\n",
    "                print(i, graph.edge_index[1][i])\n",
    "        \n",
    "naive_search(13091)\n"
   ]
  },
  {
   "cell_type": "code",
   "execution_count": 39,
   "metadata": {},
   "outputs": [
    {
     "data": {
      "text/plain": [
       "EdgeIndex([[1024, 1025, 1026,  ..., 3291, 3292, 3293],\n",
       "           [   1,    1,    2,  ..., 2459, 2461, 2462]],\n",
       "          sparse_size=(3294, 3294), nnz=2374, sort_order=col)"
      ]
     },
     "execution_count": 39,
     "metadata": {},
     "output_type": "execute_result"
    }
   ],
   "source": [
    "batch.edge_index"
   ]
  },
  {
   "cell_type": "code",
   "execution_count": 40,
   "metadata": {},
   "outputs": [
    {
     "ename": "ImportError",
     "evalue": "cannot import name 'random_walk' from 'torch_geometric.utils' (/home/loping151/anaconda3/envs/dm/lib/python3.10/site-packages/torch_geometric/utils/__init__.py)",
     "output_type": "error",
     "traceback": [
      "\u001b[0;31m---------------------------------------------------------------------------\u001b[0m",
      "\u001b[0;31mImportError\u001b[0m                               Traceback (most recent call last)",
      "Cell \u001b[0;32mIn[40], line 1\u001b[0m\n\u001b[0;32m----> 1\u001b[0m \u001b[38;5;28;01mfrom\u001b[39;00m \u001b[38;5;21;01mtorch_geometric\u001b[39;00m\u001b[38;5;21;01m.\u001b[39;00m\u001b[38;5;21;01mutils\u001b[39;00m \u001b[38;5;28;01mimport\u001b[39;00m random_walk\n\u001b[1;32m      2\u001b[0m \u001b[38;5;28;01mfrom\u001b[39;00m \u001b[38;5;21;01mtorch\u001b[39;00m\u001b[38;5;21;01m.\u001b[39;00m\u001b[38;5;21;01mutils\u001b[39;00m\u001b[38;5;21;01m.\u001b[39;00m\u001b[38;5;21;01mdata\u001b[39;00m \u001b[38;5;28;01mimport\u001b[39;00m DataLoader, Dataset\n\u001b[1;32m      4\u001b[0m \u001b[38;5;28;01mdef\u001b[39;00m \u001b[38;5;21mrandom_walk_sampler\u001b[39m(data, start_nodes, walk_length):\n",
      "\u001b[0;31mImportError\u001b[0m: cannot import name 'random_walk' from 'torch_geometric.utils' (/home/loping151/anaconda3/envs/dm/lib/python3.10/site-packages/torch_geometric/utils/__init__.py)"
     ]
    }
   ],
   "source": [
    "import random\n",
    "from typing import List, Tuple\n",
    "\n",
    "\n",
    "class BiasedRandomWalker:\n",
    "\n",
    "    def __init__(self, db, p: float = 1.2, q: float = 2.0):\n",
    "        self.db = db\n",
    "        self.ret_p = p\n",
    "        self.io_q = q\n",
    "\n",
    "        self.connected_nodes = self._get_connected_nodes()\n",
    "\n",
    "    def _get_connected_nodes(self):\n",
    "\n",
    "        txn = self.db.CreateReadTxn()\n",
    "        vit = txn.GetVertexIterator()\n",
    "\n",
    "        connected_nodes = []\n",
    "        while vit.IsValid():\n",
    "            if vit.GetNumOutEdges()[0] > 0:\n",
    "                connected_nodes.append(vit.GetId())\n",
    "            vit.Next()\n",
    "\n",
    "        txn.Commit()\n",
    "        return connected_nodes\n",
    "\n",
    "    def _normalize(self, weights):\n",
    "        tot = sum(weights)\n",
    "        return [p / tot for p in weights]\n",
    "\n",
    "    def get_probs_uniform(self, txn, vit) -> Tuple[List[int], List[float]]:\n",
    "        nexts = vit.ListDstVids()[0]\n",
    "        probs = [1 / len(nexts)] * len(nexts)\n",
    "        return nexts, probs\n",
    "\n",
    "    def get_probs_biased(self, txn, vit, prev: int) -> Tuple[List[int], List[float]]:\n",
    "        curr_nbrs = vit.ListDstVids()[0]\n",
    "\n",
    "        nexts = []\n",
    "        unnormalized_probs = []\n",
    "        for next in curr_nbrs:\n",
    "            nexts.append(next)\n",
    "            if next == prev:\n",
    "                unnormalized_probs.append(1 / self.ret_p)\n",
    "            elif txn.GetVertexIterator(next).HasEdge(prev):\n",
    "                unnormalized_probs.append(1)\n",
    "            else:\n",
    "                unnormalized_probs.append(1 / self.io_q)\n",
    "\n",
    "        probs = self._normalize(unnormalized_probs)\n",
    "        return nexts, probs\n",
    "\n",
    "    def walk(self, start: int, length: int) -> List[int]:\n",
    "\n",
    "        txn = self.db.CreateReadTxn()\n",
    "        vit = txn.GetVertexIterator(start)\n",
    "\n",
    "        trace = [vit.GetId()]\n",
    "        current_len = 1\n",
    "        \n",
    "        prev = None\n",
    "        \n",
    "        while current_len < length:\n",
    "            if prev is None:\n",
    "                nexts, probs = self.get_probs_uniform(txn, vit)\n",
    "            else:\n",
    "                nexts, probs = self.get_probs_biased(txn, vit, prev)\n",
    "\n",
    "            target = random.choices(nexts, probs)[0]\n",
    "            trace.append(target)\n",
    "\n",
    "            vit.Goto(vid=target, nearest=False)\n",
    "            current_len += 1\n",
    "\n",
    "        txn.Commit()\n",
    "        return trace\n"
   ]
  }
 ],
 "metadata": {
  "kernelspec": {
   "display_name": "dm",
   "language": "python",
   "name": "python3"
  },
  "language_info": {
   "codemirror_mode": {
    "name": "ipython",
    "version": 3
   },
   "file_extension": ".py",
   "mimetype": "text/x-python",
   "name": "python",
   "nbconvert_exporter": "python",
   "pygments_lexer": "ipython3",
   "version": "3.10.14"
  }
 },
 "nbformat": 4,
 "nbformat_minor": 2
}
